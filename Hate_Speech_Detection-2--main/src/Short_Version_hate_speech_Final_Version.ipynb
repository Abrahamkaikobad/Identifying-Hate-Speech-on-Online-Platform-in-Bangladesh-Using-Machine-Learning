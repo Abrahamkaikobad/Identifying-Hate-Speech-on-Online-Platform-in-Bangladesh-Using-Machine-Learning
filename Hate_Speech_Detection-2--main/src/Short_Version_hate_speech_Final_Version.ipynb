{
  "cells": [
    {
      "cell_type": "code",
      "execution_count": 5,
      "metadata": {
        "colab": {
          "base_uri": "https://localhost:8080/",
          "height": 74
        },
        "id": "dewvxBZbDuC4",
        "outputId": "b1eaaedd-1eda-41e4-a3bd-ccaaf27d9af2"
      },
      "outputs": [
        {
          "output_type": "display_data",
          "data": {
            "text/plain": [
              "<IPython.core.display.HTML object>"
            ],
            "text/html": [
              "\n",
              "     <input type=\"file\" id=\"files-2a68c220-dcfb-40d0-b4e3-c7cd19a0357f\" name=\"files[]\" multiple disabled\n",
              "        style=\"border:none\" />\n",
              "     <output id=\"result-2a68c220-dcfb-40d0-b4e3-c7cd19a0357f\">\n",
              "      Upload widget is only available when the cell has been executed in the\n",
              "      current browser session. Please rerun this cell to enable.\n",
              "      </output>\n",
              "      <script>// Copyright 2017 Google LLC\n",
              "//\n",
              "// Licensed under the Apache License, Version 2.0 (the \"License\");\n",
              "// you may not use this file except in compliance with the License.\n",
              "// You may obtain a copy of the License at\n",
              "//\n",
              "//      http://www.apache.org/licenses/LICENSE-2.0\n",
              "//\n",
              "// Unless required by applicable law or agreed to in writing, software\n",
              "// distributed under the License is distributed on an \"AS IS\" BASIS,\n",
              "// WITHOUT WARRANTIES OR CONDITIONS OF ANY KIND, either express or implied.\n",
              "// See the License for the specific language governing permissions and\n",
              "// limitations under the License.\n",
              "\n",
              "/**\n",
              " * @fileoverview Helpers for google.colab Python module.\n",
              " */\n",
              "(function(scope) {\n",
              "function span(text, styleAttributes = {}) {\n",
              "  const element = document.createElement('span');\n",
              "  element.textContent = text;\n",
              "  for (const key of Object.keys(styleAttributes)) {\n",
              "    element.style[key] = styleAttributes[key];\n",
              "  }\n",
              "  return element;\n",
              "}\n",
              "\n",
              "// Max number of bytes which will be uploaded at a time.\n",
              "const MAX_PAYLOAD_SIZE = 100 * 1024;\n",
              "\n",
              "function _uploadFiles(inputId, outputId) {\n",
              "  const steps = uploadFilesStep(inputId, outputId);\n",
              "  const outputElement = document.getElementById(outputId);\n",
              "  // Cache steps on the outputElement to make it available for the next call\n",
              "  // to uploadFilesContinue from Python.\n",
              "  outputElement.steps = steps;\n",
              "\n",
              "  return _uploadFilesContinue(outputId);\n",
              "}\n",
              "\n",
              "// This is roughly an async generator (not supported in the browser yet),\n",
              "// where there are multiple asynchronous steps and the Python side is going\n",
              "// to poll for completion of each step.\n",
              "// This uses a Promise to block the python side on completion of each step,\n",
              "// then passes the result of the previous step as the input to the next step.\n",
              "function _uploadFilesContinue(outputId) {\n",
              "  const outputElement = document.getElementById(outputId);\n",
              "  const steps = outputElement.steps;\n",
              "\n",
              "  const next = steps.next(outputElement.lastPromiseValue);\n",
              "  return Promise.resolve(next.value.promise).then((value) => {\n",
              "    // Cache the last promise value to make it available to the next\n",
              "    // step of the generator.\n",
              "    outputElement.lastPromiseValue = value;\n",
              "    return next.value.response;\n",
              "  });\n",
              "}\n",
              "\n",
              "/**\n",
              " * Generator function which is called between each async step of the upload\n",
              " * process.\n",
              " * @param {string} inputId Element ID of the input file picker element.\n",
              " * @param {string} outputId Element ID of the output display.\n",
              " * @return {!Iterable<!Object>} Iterable of next steps.\n",
              " */\n",
              "function* uploadFilesStep(inputId, outputId) {\n",
              "  const inputElement = document.getElementById(inputId);\n",
              "  inputElement.disabled = false;\n",
              "\n",
              "  const outputElement = document.getElementById(outputId);\n",
              "  outputElement.innerHTML = '';\n",
              "\n",
              "  const pickedPromise = new Promise((resolve) => {\n",
              "    inputElement.addEventListener('change', (e) => {\n",
              "      resolve(e.target.files);\n",
              "    });\n",
              "  });\n",
              "\n",
              "  const cancel = document.createElement('button');\n",
              "  inputElement.parentElement.appendChild(cancel);\n",
              "  cancel.textContent = 'Cancel upload';\n",
              "  const cancelPromise = new Promise((resolve) => {\n",
              "    cancel.onclick = () => {\n",
              "      resolve(null);\n",
              "    };\n",
              "  });\n",
              "\n",
              "  // Wait for the user to pick the files.\n",
              "  const files = yield {\n",
              "    promise: Promise.race([pickedPromise, cancelPromise]),\n",
              "    response: {\n",
              "      action: 'starting',\n",
              "    }\n",
              "  };\n",
              "\n",
              "  cancel.remove();\n",
              "\n",
              "  // Disable the input element since further picks are not allowed.\n",
              "  inputElement.disabled = true;\n",
              "\n",
              "  if (!files) {\n",
              "    return {\n",
              "      response: {\n",
              "        action: 'complete',\n",
              "      }\n",
              "    };\n",
              "  }\n",
              "\n",
              "  for (const file of files) {\n",
              "    const li = document.createElement('li');\n",
              "    li.append(span(file.name, {fontWeight: 'bold'}));\n",
              "    li.append(span(\n",
              "        `(${file.type || 'n/a'}) - ${file.size} bytes, ` +\n",
              "        `last modified: ${\n",
              "            file.lastModifiedDate ? file.lastModifiedDate.toLocaleDateString() :\n",
              "                                    'n/a'} - `));\n",
              "    const percent = span('0% done');\n",
              "    li.appendChild(percent);\n",
              "\n",
              "    outputElement.appendChild(li);\n",
              "\n",
              "    const fileDataPromise = new Promise((resolve) => {\n",
              "      const reader = new FileReader();\n",
              "      reader.onload = (e) => {\n",
              "        resolve(e.target.result);\n",
              "      };\n",
              "      reader.readAsArrayBuffer(file);\n",
              "    });\n",
              "    // Wait for the data to be ready.\n",
              "    let fileData = yield {\n",
              "      promise: fileDataPromise,\n",
              "      response: {\n",
              "        action: 'continue',\n",
              "      }\n",
              "    };\n",
              "\n",
              "    // Use a chunked sending to avoid message size limits. See b/62115660.\n",
              "    let position = 0;\n",
              "    do {\n",
              "      const length = Math.min(fileData.byteLength - position, MAX_PAYLOAD_SIZE);\n",
              "      const chunk = new Uint8Array(fileData, position, length);\n",
              "      position += length;\n",
              "\n",
              "      const base64 = btoa(String.fromCharCode.apply(null, chunk));\n",
              "      yield {\n",
              "        response: {\n",
              "          action: 'append',\n",
              "          file: file.name,\n",
              "          data: base64,\n",
              "        },\n",
              "      };\n",
              "\n",
              "      let percentDone = fileData.byteLength === 0 ?\n",
              "          100 :\n",
              "          Math.round((position / fileData.byteLength) * 100);\n",
              "      percent.textContent = `${percentDone}% done`;\n",
              "\n",
              "    } while (position < fileData.byteLength);\n",
              "  }\n",
              "\n",
              "  // All done.\n",
              "  yield {\n",
              "    response: {\n",
              "      action: 'complete',\n",
              "    }\n",
              "  };\n",
              "}\n",
              "\n",
              "scope.google = scope.google || {};\n",
              "scope.google.colab = scope.google.colab || {};\n",
              "scope.google.colab._files = {\n",
              "  _uploadFiles,\n",
              "  _uploadFilesContinue,\n",
              "};\n",
              "})(self);\n",
              "</script> "
            ]
          },
          "metadata": {}
        },
        {
          "output_type": "stream",
          "name": "stdout",
          "text": [
            "Saving test.xlsx to test.xlsx\n"
          ]
        }
      ],
      "source": [
        "from google.colab import files\n",
        "uploaded = files.upload()"
      ]
    },
    {
      "cell_type": "markdown",
      "metadata": {
        "id": "SSyw2erGC-xf"
      },
      "source": [
        "# Import and pip package"
      ]
    },
    {
      "cell_type": "code",
      "source": [
        "pip install --upgrade scikit-learn==1.3.2"
      ],
      "metadata": {
        "colab": {
          "base_uri": "https://localhost:8080/"
        },
        "id": "Tz2z-JleYTEG",
        "outputId": "552b8855-2bf2-4888-cde7-4436327d05a3"
      },
      "execution_count": 4,
      "outputs": [
        {
          "output_type": "stream",
          "name": "stdout",
          "text": [
            "Requirement already satisfied: scikit-learn==1.3.2 in /usr/local/lib/python3.10/dist-packages (1.3.2)\n",
            "Requirement already satisfied: numpy<2.0,>=1.17.3 in /usr/local/lib/python3.10/dist-packages (from scikit-learn==1.3.2) (1.23.5)\n",
            "Requirement already satisfied: scipy>=1.5.0 in /usr/local/lib/python3.10/dist-packages (from scikit-learn==1.3.2) (1.11.3)\n",
            "Requirement already satisfied: joblib>=1.1.1 in /usr/local/lib/python3.10/dist-packages (from scikit-learn==1.3.2) (1.3.2)\n",
            "Requirement already satisfied: threadpoolctl>=2.0.0 in /usr/local/lib/python3.10/dist-packages (from scikit-learn==1.3.2) (3.2.0)\n"
          ]
        }
      ]
    },
    {
      "cell_type": "code",
      "source": [
        "pip install  bltk"
      ],
      "metadata": {
        "colab": {
          "base_uri": "https://localhost:8080/"
        },
        "id": "vZQIzfUraPb8",
        "outputId": "baf701f2-04e6-4746-ba96-4c58d94fc5e9"
      },
      "execution_count": 6,
      "outputs": [
        {
          "output_type": "stream",
          "name": "stdout",
          "text": [
            "Collecting bltk\n",
            "  Using cached bltk-1.2.tar.gz (17.4 MB)\n",
            "  Preparing metadata (setup.py) ... \u001b[?25l\u001b[?25hdone\n",
            "Collecting sklearn>=0.0 (from bltk)\n",
            "  Using cached sklearn-0.0.post11.tar.gz (3.6 kB)\n",
            "  Preparing metadata (setup.py) ... \u001b[?25l\u001b[?25hdone\n",
            "Requirement already satisfied: six>=1.13.0 in /usr/local/lib/python3.10/dist-packages (from bltk) (1.16.0)\n",
            "Requirement already satisfied: scipy>=1.4.1 in /usr/local/lib/python3.10/dist-packages (from bltk) (1.11.3)\n",
            "Requirement already satisfied: scikit-learn>=0.21.3 in /usr/local/lib/python3.10/dist-packages (from bltk) (1.3.2)\n",
            "Requirement already satisfied: numpy>=1.18.1 in /usr/local/lib/python3.10/dist-packages (from bltk) (1.23.5)\n",
            "Requirement already satisfied: nltk>=3.4.5 in /usr/local/lib/python3.10/dist-packages (from bltk) (3.8.1)\n",
            "Requirement already satisfied: joblib>=0.14.1 in /usr/local/lib/python3.10/dist-packages (from bltk) (1.3.2)\n",
            "Requirement already satisfied: certifi>=2019.11.28 in /usr/local/lib/python3.10/dist-packages (from bltk) (2023.7.22)\n",
            "Requirement already satisfied: click in /usr/local/lib/python3.10/dist-packages (from nltk>=3.4.5->bltk) (8.1.7)\n",
            "Requirement already satisfied: regex>=2021.8.3 in /usr/local/lib/python3.10/dist-packages (from nltk>=3.4.5->bltk) (2023.6.3)\n",
            "Requirement already satisfied: tqdm in /usr/local/lib/python3.10/dist-packages (from nltk>=3.4.5->bltk) (4.66.1)\n",
            "Requirement already satisfied: threadpoolctl>=2.0.0 in /usr/local/lib/python3.10/dist-packages (from scikit-learn>=0.21.3->bltk) (3.2.0)\n",
            "Building wheels for collected packages: bltk, sklearn\n",
            "  Building wheel for bltk (setup.py) ... \u001b[?25l\u001b[?25hdone\n",
            "  Created wheel for bltk: filename=bltk-1.2-py3-none-any.whl size=17432518 sha256=27836787a2ac0a3c098e5e3288970ae13dd8703c57977ed86be12b938c841b5f\n",
            "  Stored in directory: /root/.cache/pip/wheels/52/7d/57/4806e1ef5d1ad1491ce0ac43aaa0377293efbc9a81d5b7e6c8\n",
            "  Building wheel for sklearn (setup.py) ... \u001b[?25l\u001b[?25hdone\n",
            "  Created wheel for sklearn: filename=sklearn-0.0.post11-py3-none-any.whl size=2959 sha256=70ed32fc6c2e0f57f15c5bf8b3f3015089a41d8cd6a5d5737335a82c166e68e8\n",
            "  Stored in directory: /root/.cache/pip/wheels/aa/9c/60/f67813603a52fc35057868f1aba0003cc75b72583dcaa2c341\n",
            "Successfully built bltk sklearn\n",
            "Installing collected packages: sklearn, bltk\n",
            "Successfully installed bltk-1.2 sklearn-0.0.post11\n"
          ]
        }
      ]
    },
    {
      "cell_type": "code",
      "execution_count": 7,
      "metadata": {
        "colab": {
          "base_uri": "https://localhost:8080/"
        },
        "id": "ae3szmLOYGdq",
        "outputId": "a4e2d5e2-4c1b-4e07-9fc7-917ef6d24d9a"
      },
      "outputs": [
        {
          "output_type": "stream",
          "name": "stdout",
          "text": [
            "Requirement already satisfied: bnlp-toolkit in /usr/local/lib/python3.10/dist-packages (4.0.0)\n",
            "Requirement already satisfied: sentencepiece in /usr/local/lib/python3.10/dist-packages (from bnlp-toolkit) (0.1.99)\n",
            "Requirement already satisfied: gensim in /usr/local/lib/python3.10/dist-packages (from bnlp-toolkit) (4.3.2)\n",
            "Requirement already satisfied: nltk in /usr/local/lib/python3.10/dist-packages (from bnlp-toolkit) (3.8.1)\n",
            "Requirement already satisfied: numpy in /usr/local/lib/python3.10/dist-packages (from bnlp-toolkit) (1.23.5)\n",
            "Requirement already satisfied: scipy in /usr/local/lib/python3.10/dist-packages (from bnlp-toolkit) (1.11.3)\n",
            "Requirement already satisfied: sklearn-crfsuite in /usr/local/lib/python3.10/dist-packages (from bnlp-toolkit) (0.3.6)\n",
            "Requirement already satisfied: tqdm in /usr/local/lib/python3.10/dist-packages (from bnlp-toolkit) (4.66.1)\n",
            "Requirement already satisfied: ftfy in /usr/local/lib/python3.10/dist-packages (from bnlp-toolkit) (6.1.1)\n",
            "Requirement already satisfied: emoji==1.7.0 in /usr/local/lib/python3.10/dist-packages (from bnlp-toolkit) (1.7.0)\n",
            "Requirement already satisfied: requests in /usr/local/lib/python3.10/dist-packages (from bnlp-toolkit) (2.31.0)\n",
            "Requirement already satisfied: wcwidth>=0.2.5 in /usr/local/lib/python3.10/dist-packages (from ftfy->bnlp-toolkit) (0.2.9)\n",
            "Requirement already satisfied: smart-open>=1.8.1 in /usr/local/lib/python3.10/dist-packages (from gensim->bnlp-toolkit) (6.4.0)\n",
            "Requirement already satisfied: click in /usr/local/lib/python3.10/dist-packages (from nltk->bnlp-toolkit) (8.1.7)\n",
            "Requirement already satisfied: joblib in /usr/local/lib/python3.10/dist-packages (from nltk->bnlp-toolkit) (1.3.2)\n",
            "Requirement already satisfied: regex>=2021.8.3 in /usr/local/lib/python3.10/dist-packages (from nltk->bnlp-toolkit) (2023.6.3)\n",
            "Requirement already satisfied: charset-normalizer<4,>=2 in /usr/local/lib/python3.10/dist-packages (from requests->bnlp-toolkit) (3.3.2)\n",
            "Requirement already satisfied: idna<4,>=2.5 in /usr/local/lib/python3.10/dist-packages (from requests->bnlp-toolkit) (3.4)\n",
            "Requirement already satisfied: urllib3<3,>=1.21.1 in /usr/local/lib/python3.10/dist-packages (from requests->bnlp-toolkit) (2.0.7)\n",
            "Requirement already satisfied: certifi>=2017.4.17 in /usr/local/lib/python3.10/dist-packages (from requests->bnlp-toolkit) (2023.7.22)\n",
            "Requirement already satisfied: python-crfsuite>=0.8.3 in /usr/local/lib/python3.10/dist-packages (from sklearn-crfsuite->bnlp-toolkit) (0.9.9)\n",
            "Requirement already satisfied: six in /usr/local/lib/python3.10/dist-packages (from sklearn-crfsuite->bnlp-toolkit) (1.16.0)\n",
            "Requirement already satisfied: tabulate in /usr/local/lib/python3.10/dist-packages (from sklearn-crfsuite->bnlp-toolkit) (0.9.0)\n"
          ]
        }
      ],
      "source": [
        "pip install bnlp-toolkit\n"
      ]
    },
    {
      "cell_type": "code",
      "execution_count": 8,
      "metadata": {
        "id": "DfPbSsaJIDOA"
      },
      "outputs": [],
      "source": [
        "import warnings\n",
        "from sklearn.exceptions import UndefinedMetricWarning\n",
        "\n",
        "# Ignore UndefinedMetricWarning\n",
        "warnings.filterwarnings(\"ignore\", category=UndefinedMetricWarning)\n"
      ]
    },
    {
      "cell_type": "code",
      "execution_count": 9,
      "metadata": {
        "colab": {
          "base_uri": "https://localhost:8080/"
        },
        "id": "5pXmdc8HQtEF",
        "outputId": "234eaa0b-bb8b-48d0-d891-da2bb650a0c2"
      },
      "outputs": [
        {
          "output_type": "stream",
          "name": "stdout",
          "text": [
            "<WordListCorpusReader in '.../corpora/stopwords' (not loaded yet)>\n"
          ]
        }
      ],
      "source": [
        "#bangla package import\n",
        "from bltk.langtools import remove_stopwords\n",
        "#from bltk.langtools import Tokenizer\n",
        "import collections\n",
        "import nltk\n",
        "from string import punctuation\n",
        "import nltk\n",
        "from nltk.corpus import stopwords\n",
        "from bltk.langtools.banglachars import (vowels,\n",
        "                                        vowel_signs,consonants,\n",
        "                                        digits,\n",
        "                                        operators,\n",
        "                                        punctuations,\n",
        "                                        others)\n",
        "print(stopwords)"
      ]
    },
    {
      "cell_type": "code",
      "execution_count": 10,
      "metadata": {
        "id": "MGO6fifGw1no"
      },
      "outputs": [],
      "source": [
        "from sklearn.model_selection import train_test_split\n",
        "from sklearn.metrics import make_scorer, roc_auc_score\n",
        "from sklearn.feature_extraction.text import TfidfVectorizer\n",
        "from sklearn.model_selection import GridSearchCV, RandomizedSearchCV\n",
        "from scipy import stats\n",
        "import matplotlib.pyplot as plt\n",
        "import sklearn.metrics as metrics"
      ]
    },
    {
      "cell_type": "markdown",
      "metadata": {
        "id": "IA6h2CgRInzp"
      },
      "source": [
        "# Dataset & Insight\n",
        "\n",
        "---\n",
        "\n"
      ]
    },
    {
      "cell_type": "markdown",
      "metadata": {
        "id": "ZtRIwF2tC1e-"
      },
      "source": [
        "## Load dataset and insight the dataset"
      ]
    },
    {
      "cell_type": "code",
      "execution_count": 11,
      "metadata": {
        "id": "c62JErgqhI_m"
      },
      "outputs": [],
      "source": [
        "import pandas as pd\n",
        "import numpy as np\n",
        "\n",
        "\n",
        "df=pd.read_excel('test.xlsx')"
      ]
    },
    {
      "cell_type": "code",
      "execution_count": 12,
      "metadata": {
        "colab": {
          "base_uri": "https://localhost:8080/"
        },
        "id": "VyKfuFEF0Xvh",
        "outputId": "49db1104-a080-4b99-a562-aca3f2848262"
      },
      "outputs": [
        {
          "output_type": "stream",
          "name": "stdout",
          "text": [
            "<class 'pandas.core.frame.DataFrame'>\n",
            "RangeIndex: 12447 entries, 0 to 12446\n",
            "Data columns (total 3 columns):\n",
            " #   Column    Non-Null Count  Dtype \n",
            "---  ------    --------------  ----- \n",
            " 0   bangla    12447 non-null  object\n",
            " 1   banglish  12447 non-null  object\n",
            " 2   label     12447 non-null  object\n",
            "dtypes: object(3)\n",
            "memory usage: 291.9+ KB\n"
          ]
        }
      ],
      "source": [
        "df.info()"
      ]
    },
    {
      "cell_type": "code",
      "execution_count": 13,
      "metadata": {
        "colab": {
          "base_uri": "https://localhost:8080/",
          "height": 112
        },
        "id": "a2e4sRlU0ZW9",
        "outputId": "49da7aeb-9d8c-4eb1-bbd7-1996c4297b71"
      },
      "outputs": [
        {
          "output_type": "execute_result",
          "data": {
            "text/plain": [
              "                                              bangla  \\\n",
              "0  সোনাগাছির পূজো নিয়ে বাক যুদ্ধ, তুমুল বিতর্কে জ...   \n",
              "1  সেদিন বাসনওয়ালাকে যে প্যান্টটা দিয়ে বাসন কিনেছ...   \n",
              "\n",
              "                                            banglish     label  \n",
              "0  sonagachir pujo niye bak juddho, tumul bitorke...  Personal  \n",
              "1  sedin basnoyalake je pjantta diye bason kinech...   Neutral  "
            ],
            "text/html": [
              "\n",
              "  <div id=\"df-91a3ad54-ed81-47d7-85b8-605bc72eb441\" class=\"colab-df-container\">\n",
              "    <div>\n",
              "<style scoped>\n",
              "    .dataframe tbody tr th:only-of-type {\n",
              "        vertical-align: middle;\n",
              "    }\n",
              "\n",
              "    .dataframe tbody tr th {\n",
              "        vertical-align: top;\n",
              "    }\n",
              "\n",
              "    .dataframe thead th {\n",
              "        text-align: right;\n",
              "    }\n",
              "</style>\n",
              "<table border=\"1\" class=\"dataframe\">\n",
              "  <thead>\n",
              "    <tr style=\"text-align: right;\">\n",
              "      <th></th>\n",
              "      <th>bangla</th>\n",
              "      <th>banglish</th>\n",
              "      <th>label</th>\n",
              "    </tr>\n",
              "  </thead>\n",
              "  <tbody>\n",
              "    <tr>\n",
              "      <th>0</th>\n",
              "      <td>সোনাগাছির পূজো নিয়ে বাক যুদ্ধ, তুমুল বিতর্কে জ...</td>\n",
              "      <td>sonagachir pujo niye bak juddho, tumul bitorke...</td>\n",
              "      <td>Personal</td>\n",
              "    </tr>\n",
              "    <tr>\n",
              "      <th>1</th>\n",
              "      <td>সেদিন বাসনওয়ালাকে যে প্যান্টটা দিয়ে বাসন কিনেছ...</td>\n",
              "      <td>sedin basnoyalake je pjantta diye bason kinech...</td>\n",
              "      <td>Neutral</td>\n",
              "    </tr>\n",
              "  </tbody>\n",
              "</table>\n",
              "</div>\n",
              "    <div class=\"colab-df-buttons\">\n",
              "\n",
              "  <div class=\"colab-df-container\">\n",
              "    <button class=\"colab-df-convert\" onclick=\"convertToInteractive('df-91a3ad54-ed81-47d7-85b8-605bc72eb441')\"\n",
              "            title=\"Convert this dataframe to an interactive table.\"\n",
              "            style=\"display:none;\">\n",
              "\n",
              "  <svg xmlns=\"http://www.w3.org/2000/svg\" height=\"24px\" viewBox=\"0 -960 960 960\">\n",
              "    <path d=\"M120-120v-720h720v720H120Zm60-500h600v-160H180v160Zm220 220h160v-160H400v160Zm0 220h160v-160H400v160ZM180-400h160v-160H180v160Zm440 0h160v-160H620v160ZM180-180h160v-160H180v160Zm440 0h160v-160H620v160Z\"/>\n",
              "  </svg>\n",
              "    </button>\n",
              "\n",
              "  <style>\n",
              "    .colab-df-container {\n",
              "      display:flex;\n",
              "      gap: 12px;\n",
              "    }\n",
              "\n",
              "    .colab-df-convert {\n",
              "      background-color: #E8F0FE;\n",
              "      border: none;\n",
              "      border-radius: 50%;\n",
              "      cursor: pointer;\n",
              "      display: none;\n",
              "      fill: #1967D2;\n",
              "      height: 32px;\n",
              "      padding: 0 0 0 0;\n",
              "      width: 32px;\n",
              "    }\n",
              "\n",
              "    .colab-df-convert:hover {\n",
              "      background-color: #E2EBFA;\n",
              "      box-shadow: 0px 1px 2px rgba(60, 64, 67, 0.3), 0px 1px 3px 1px rgba(60, 64, 67, 0.15);\n",
              "      fill: #174EA6;\n",
              "    }\n",
              "\n",
              "    .colab-df-buttons div {\n",
              "      margin-bottom: 4px;\n",
              "    }\n",
              "\n",
              "    [theme=dark] .colab-df-convert {\n",
              "      background-color: #3B4455;\n",
              "      fill: #D2E3FC;\n",
              "    }\n",
              "\n",
              "    [theme=dark] .colab-df-convert:hover {\n",
              "      background-color: #434B5C;\n",
              "      box-shadow: 0px 1px 3px 1px rgba(0, 0, 0, 0.15);\n",
              "      filter: drop-shadow(0px 1px 2px rgba(0, 0, 0, 0.3));\n",
              "      fill: #FFFFFF;\n",
              "    }\n",
              "  </style>\n",
              "\n",
              "    <script>\n",
              "      const buttonEl =\n",
              "        document.querySelector('#df-91a3ad54-ed81-47d7-85b8-605bc72eb441 button.colab-df-convert');\n",
              "      buttonEl.style.display =\n",
              "        google.colab.kernel.accessAllowed ? 'block' : 'none';\n",
              "\n",
              "      async function convertToInteractive(key) {\n",
              "        const element = document.querySelector('#df-91a3ad54-ed81-47d7-85b8-605bc72eb441');\n",
              "        const dataTable =\n",
              "          await google.colab.kernel.invokeFunction('convertToInteractive',\n",
              "                                                    [key], {});\n",
              "        if (!dataTable) return;\n",
              "\n",
              "        const docLinkHtml = 'Like what you see? Visit the ' +\n",
              "          '<a target=\"_blank\" href=https://colab.research.google.com/notebooks/data_table.ipynb>data table notebook</a>'\n",
              "          + ' to learn more about interactive tables.';\n",
              "        element.innerHTML = '';\n",
              "        dataTable['output_type'] = 'display_data';\n",
              "        await google.colab.output.renderOutput(dataTable, element);\n",
              "        const docLink = document.createElement('div');\n",
              "        docLink.innerHTML = docLinkHtml;\n",
              "        element.appendChild(docLink);\n",
              "      }\n",
              "    </script>\n",
              "  </div>\n",
              "\n",
              "\n",
              "<div id=\"df-68ad0a47-b678-4fbe-bc21-903c4978f624\">\n",
              "  <button class=\"colab-df-quickchart\" onclick=\"quickchart('df-68ad0a47-b678-4fbe-bc21-903c4978f624')\"\n",
              "            title=\"Suggest charts\"\n",
              "            style=\"display:none;\">\n",
              "\n",
              "<svg xmlns=\"http://www.w3.org/2000/svg\" height=\"24px\"viewBox=\"0 0 24 24\"\n",
              "     width=\"24px\">\n",
              "    <g>\n",
              "        <path d=\"M19 3H5c-1.1 0-2 .9-2 2v14c0 1.1.9 2 2 2h14c1.1 0 2-.9 2-2V5c0-1.1-.9-2-2-2zM9 17H7v-7h2v7zm4 0h-2V7h2v10zm4 0h-2v-4h2v4z\"/>\n",
              "    </g>\n",
              "</svg>\n",
              "  </button>\n",
              "\n",
              "<style>\n",
              "  .colab-df-quickchart {\n",
              "      --bg-color: #E8F0FE;\n",
              "      --fill-color: #1967D2;\n",
              "      --hover-bg-color: #E2EBFA;\n",
              "      --hover-fill-color: #174EA6;\n",
              "      --disabled-fill-color: #AAA;\n",
              "      --disabled-bg-color: #DDD;\n",
              "  }\n",
              "\n",
              "  [theme=dark] .colab-df-quickchart {\n",
              "      --bg-color: #3B4455;\n",
              "      --fill-color: #D2E3FC;\n",
              "      --hover-bg-color: #434B5C;\n",
              "      --hover-fill-color: #FFFFFF;\n",
              "      --disabled-bg-color: #3B4455;\n",
              "      --disabled-fill-color: #666;\n",
              "  }\n",
              "\n",
              "  .colab-df-quickchart {\n",
              "    background-color: var(--bg-color);\n",
              "    border: none;\n",
              "    border-radius: 50%;\n",
              "    cursor: pointer;\n",
              "    display: none;\n",
              "    fill: var(--fill-color);\n",
              "    height: 32px;\n",
              "    padding: 0;\n",
              "    width: 32px;\n",
              "  }\n",
              "\n",
              "  .colab-df-quickchart:hover {\n",
              "    background-color: var(--hover-bg-color);\n",
              "    box-shadow: 0 1px 2px rgba(60, 64, 67, 0.3), 0 1px 3px 1px rgba(60, 64, 67, 0.15);\n",
              "    fill: var(--button-hover-fill-color);\n",
              "  }\n",
              "\n",
              "  .colab-df-quickchart-complete:disabled,\n",
              "  .colab-df-quickchart-complete:disabled:hover {\n",
              "    background-color: var(--disabled-bg-color);\n",
              "    fill: var(--disabled-fill-color);\n",
              "    box-shadow: none;\n",
              "  }\n",
              "\n",
              "  .colab-df-spinner {\n",
              "    border: 2px solid var(--fill-color);\n",
              "    border-color: transparent;\n",
              "    border-bottom-color: var(--fill-color);\n",
              "    animation:\n",
              "      spin 1s steps(1) infinite;\n",
              "  }\n",
              "\n",
              "  @keyframes spin {\n",
              "    0% {\n",
              "      border-color: transparent;\n",
              "      border-bottom-color: var(--fill-color);\n",
              "      border-left-color: var(--fill-color);\n",
              "    }\n",
              "    20% {\n",
              "      border-color: transparent;\n",
              "      border-left-color: var(--fill-color);\n",
              "      border-top-color: var(--fill-color);\n",
              "    }\n",
              "    30% {\n",
              "      border-color: transparent;\n",
              "      border-left-color: var(--fill-color);\n",
              "      border-top-color: var(--fill-color);\n",
              "      border-right-color: var(--fill-color);\n",
              "    }\n",
              "    40% {\n",
              "      border-color: transparent;\n",
              "      border-right-color: var(--fill-color);\n",
              "      border-top-color: var(--fill-color);\n",
              "    }\n",
              "    60% {\n",
              "      border-color: transparent;\n",
              "      border-right-color: var(--fill-color);\n",
              "    }\n",
              "    80% {\n",
              "      border-color: transparent;\n",
              "      border-right-color: var(--fill-color);\n",
              "      border-bottom-color: var(--fill-color);\n",
              "    }\n",
              "    90% {\n",
              "      border-color: transparent;\n",
              "      border-bottom-color: var(--fill-color);\n",
              "    }\n",
              "  }\n",
              "</style>\n",
              "\n",
              "  <script>\n",
              "    async function quickchart(key) {\n",
              "      const quickchartButtonEl =\n",
              "        document.querySelector('#' + key + ' button');\n",
              "      quickchartButtonEl.disabled = true;  // To prevent multiple clicks.\n",
              "      quickchartButtonEl.classList.add('colab-df-spinner');\n",
              "      try {\n",
              "        const charts = await google.colab.kernel.invokeFunction(\n",
              "            'suggestCharts', [key], {});\n",
              "      } catch (error) {\n",
              "        console.error('Error during call to suggestCharts:', error);\n",
              "      }\n",
              "      quickchartButtonEl.classList.remove('colab-df-spinner');\n",
              "      quickchartButtonEl.classList.add('colab-df-quickchart-complete');\n",
              "    }\n",
              "    (() => {\n",
              "      let quickchartButtonEl =\n",
              "        document.querySelector('#df-68ad0a47-b678-4fbe-bc21-903c4978f624 button');\n",
              "      quickchartButtonEl.style.display =\n",
              "        google.colab.kernel.accessAllowed ? 'block' : 'none';\n",
              "    })();\n",
              "  </script>\n",
              "</div>\n",
              "    </div>\n",
              "  </div>\n"
            ]
          },
          "metadata": {},
          "execution_count": 13
        }
      ],
      "source": [
        "df.head(2)"
      ]
    },
    {
      "cell_type": "code",
      "execution_count": 14,
      "metadata": {
        "colab": {
          "base_uri": "https://localhost:8080/"
        },
        "id": "NoHpGCDVi5Wt",
        "outputId": "cb9299dc-0074-4a1e-a828-722f936a86f4"
      },
      "outputs": [
        {
          "output_type": "execute_result",
          "data": {
            "text/plain": [
              "(12447, 3)"
            ]
          },
          "metadata": {},
          "execution_count": 14
        }
      ],
      "source": [
        "df.shape"
      ]
    },
    {
      "cell_type": "code",
      "execution_count": 15,
      "metadata": {
        "id": "ky8sWe303XbP"
      },
      "outputs": [],
      "source": [
        "mask = (df['label'] != 'Gender abusive')\n",
        "df = df[mask]"
      ]
    },
    {
      "cell_type": "code",
      "execution_count": 16,
      "metadata": {
        "colab": {
          "base_uri": "https://localhost:8080/"
        },
        "id": "rjvmpPF43Z5u",
        "outputId": "04079ad7-44e6-4f2a-bba3-2803ceac559d"
      },
      "outputs": [
        {
          "output_type": "execute_result",
          "data": {
            "text/plain": [
              "(12131, 3)"
            ]
          },
          "metadata": {},
          "execution_count": 16
        }
      ],
      "source": [
        "df.shape"
      ]
    },
    {
      "cell_type": "code",
      "execution_count": 17,
      "metadata": {
        "colab": {
          "base_uri": "https://localhost:8080/"
        },
        "id": "OaaQAX97u4d3",
        "outputId": "4c209c52-bb91-40e2-c127-c1c59b5696b8"
      },
      "outputs": [
        {
          "output_type": "stream",
          "name": "stdout",
          "text": [
            "Personal        4225\n",
            "Geopolitical    3761\n",
            "Religious       1714\n",
            "Political       1596\n",
            "Neutral          835\n",
            "Name: label, dtype: int64\n"
          ]
        }
      ],
      "source": [
        "y=df['label']\n",
        "print(df['label'].value_counts())\n"
      ]
    },
    {
      "cell_type": "code",
      "execution_count": 18,
      "metadata": {
        "id": "YU0-DXOlhSTC"
      },
      "outputs": [],
      "source": [
        "bangla=df['bangla']"
      ]
    },
    {
      "cell_type": "code",
      "execution_count": 19,
      "metadata": {
        "id": "PF4gXk17hdMo"
      },
      "outputs": [],
      "source": [
        "banglish=df['banglish']"
      ]
    },
    {
      "cell_type": "code",
      "execution_count": 20,
      "metadata": {
        "id": "-qOrf_ewKM-6"
      },
      "outputs": [],
      "source": [
        "label_mapping = {\n",
        "    'Personal': 1,\n",
        "    'Neutral': 0,\n",
        "    'Religious': 3,\n",
        "    'Political':4,\n",
        "    'Geopolitical':2\n",
        "}\n",
        "\n",
        "# Apply the mapping to the 'label' column\n",
        "y = y.map(label_mapping)\n"
      ]
    },
    {
      "cell_type": "markdown",
      "metadata": {
        "id": "8dEjLqU7Gsuj"
      },
      "source": [
        "# EDA & Data Visualization & Preprocessing\n",
        "\n",
        "---\n",
        "\n"
      ]
    },
    {
      "cell_type": "code",
      "execution_count": 21,
      "metadata": {
        "id": "9xBomsXQAWAE"
      },
      "outputs": [],
      "source": [
        "from bltk.langtools import remove_stopwords\n",
        "from bltk.langtools import Tokenizer"
      ]
    },
    {
      "cell_type": "markdown",
      "metadata": {
        "id": "eM8a30c8HiAB"
      },
      "source": [
        "***Bangla Text Cleaning***"
      ]
    },
    {
      "cell_type": "code",
      "execution_count": 22,
      "metadata": {
        "colab": {
          "base_uri": "https://localhost:8080/"
        },
        "id": "LkkGoobwYhl4",
        "outputId": "dca1ac2f-5f17-41c1-8cdf-d1491ab3b29d"
      },
      "outputs": [
        {
          "output_type": "stream",
          "name": "stdout",
          "text": [
            "Process Text: সাথে মাতবরি করিস\n"
          ]
        }
      ],
      "source": [
        "import pandas as pd\n",
        "import re\n",
        "import string\n",
        "tokenizer = Tokenizer()\n",
        "# Sample Bangla text\n",
        "bangla = \"আমার সাথে মাতবরি করিস না ১ ২ ৩।\"\n",
        "\n",
        "# Function to clean Bangla text\n",
        "def clean_bangla_text(text):\n",
        "    tokened_words = tokenizer.word_tokenizer(text)\n",
        "    #print(tokened_words)\n",
        "    remove_stop=remove_stopwords(tokened_words, level='hard')\n",
        "    #print(remove_stop)\n",
        "    #remove punctuation\n",
        "    remove_punc=[word for word in remove_stop if word not in punctuations]\n",
        "    #print(remove_punc)\n",
        "    remove_digit=[word for word in remove_punc if word not in digits]\n",
        "    #print(remove_digit)\n",
        "    # Join the cleaned words\n",
        "    cleaned_text = ' '.join(remove_digit)\n",
        "\n",
        "    # Remove extra whitespaces\n",
        "    cleaned_text = re.sub(r'\\s+', ' ', cleaned_text).strip()\n",
        "    return cleaned_text\n",
        "\n",
        "# Clean the Bangla text\n",
        "cleaned_bangla = clean_bangla_text(bangla)\n",
        "\n",
        "print(\"Process Text:\",cleaned_bangla)\n"
      ]
    },
    {
      "cell_type": "markdown",
      "metadata": {
        "id": "1Uh_B_ZIZLiC"
      },
      "source": [
        "*Banglish Text cleaning*"
      ]
    },
    {
      "cell_type": "code",
      "execution_count": 23,
      "metadata": {
        "colab": {
          "base_uri": "https://localhost:8080/"
        },
        "id": "u0K32n-Pphny",
        "outputId": "11e6f691-ad31-41b3-8a08-902514adc26c"
      },
      "outputs": [
        {
          "output_type": "stream",
          "name": "stdout",
          "text": [
            "Process Text baler kotha kos tui\n"
          ]
        }
      ],
      "source": [
        "import re\n",
        "import string\n",
        "from nltk.tokenize import word_tokenize\n",
        "\n",
        "# Sample Banglish text\n",
        "banglish = \"amar Baler hole ???????????/@kotha kos tui 123123 hobe\"\n",
        "def clean_banglish_text(text):\n",
        "    # Remove punctuation and digits\n",
        "    text = re.sub(f\"[{string.punctuation}{string.digits}]\", \"\", text)\n",
        "\n",
        "    # Load the text file with ignored words for Banglish\n",
        "    with open('banglish_stop.txt', 'r', encoding='utf-8') as file:\n",
        "        ignored_words = set(word.strip() for word in file.readlines())\n",
        "\n",
        "    # Tokenize the Banglish text\n",
        "    tokens = tokenizer.word_tokenizer(text)\n",
        "\n",
        "    # Process the tokens, excluding ignored words, and convert to lowercase\n",
        "    processed_text = [token.lower() for token in tokens if token not in ignored_words]\n",
        "\n",
        "    return ' '.join(processed_text)\n",
        "\n",
        "# Clean the Banglish text and convert it to lowercase\n",
        "cleaned_banglish = clean_banglish_text(banglish)\n",
        "\n",
        "print(\"Process Text\", cleaned_banglish)\n"
      ]
    },
    {
      "cell_type": "code",
      "execution_count": 24,
      "metadata": {
        "colab": {
          "base_uri": "https://localhost:8080/"
        },
        "id": "inmRXNHjohmR",
        "outputId": "b7177a37-4bff-4a22-9915-a65bffeb1d6a"
      },
      "outputs": [
        {
          "output_type": "execute_result",
          "data": {
            "text/plain": [
              "{'.', '_', 'a', 'b', 'g', 'h', 'i', 'l', 'n', 'o', 'p', 's', 't', 'x'}"
            ]
          },
          "metadata": {},
          "execution_count": 24
        }
      ],
      "source": [
        "set('banglish_stop.txt')"
      ]
    },
    {
      "cell_type": "markdown",
      "metadata": {
        "id": "1a24qX-vJhbs"
      },
      "source": [
        "## Apply the changes\n"
      ]
    },
    {
      "cell_type": "code",
      "execution_count": 25,
      "metadata": {
        "colab": {
          "base_uri": "https://localhost:8080/"
        },
        "id": "fhtTQS36YjtM",
        "outputId": "a57fe99c-aba8-4840-aca3-199197e2c91b"
      },
      "outputs": [
        {
          "output_type": "execute_result",
          "data": {
            "text/plain": [
              "0        সোনাগাছির পূজো বাক যুদ্ধ তুমুল বিতর্কে জড়ালেন ...\n",
              "1        সেদিন বাসনওয়ালাকে প্যান্টটা দিয়ে বাসন কিনেছিলা...\n",
              "2                  জুতা ছিড়ছে কেডা শালাগোরে জুতা পিডা করমু\n",
              "3                        তুই কোথায় আছিস জানিনা ধর্ষণ বিচার\n",
              "4             লাথি ধর্মপ্রাণ নিরীহ মানুষের লাথি গণতন্ত্রের\n",
              "                               ...                        \n",
              "12442    জুতা যতই দামি স্থান পায়ে স্থান কখনো মাথায় হয...\n",
              "12443    দেশ ছোট ভারতের পিছিয়ে মুতার জন্যও তোদের সাথে স...\n",
              "12444                   হিন্দুদের বাস্তব প্রমাণ সবাই মতামত\n",
              "12445                        দেখলে শালী অস্ট্রেলিয়ান গাভী\n",
              "12446    ভাই সাথে একমত নারী নেতৃত্বে থাকতে চাই ভিপি নুর...\n",
              "Name: bangla, Length: 12131, dtype: object"
            ]
          },
          "metadata": {},
          "execution_count": 25
        }
      ],
      "source": [
        "bangla=df['bangla'].apply(clean_bangla_text)\n",
        "bangla"
      ]
    },
    {
      "cell_type": "code",
      "execution_count": 26,
      "metadata": {
        "colab": {
          "base_uri": "https://localhost:8080/"
        },
        "id": "m6bpMPoOmLiR",
        "outputId": "e6ef1218-af99-41d5-ebbd-4ad6d1bbd548"
      },
      "outputs": [
        {
          "output_type": "execute_result",
          "data": {
            "text/plain": [
              "0        sonagachir pujo bak juddho tumul bitorke joral...\n",
              "1        sedin basnoyalake pjantta bason kinechilam onl...\n",
              "2              juta chirche keda shalagore juta pida kormu\n",
              "3         tui kothay achis janina shudhu dhorshon bicar na\n",
              "4        lathi dhormopran nirih manusher lathi gonotontrer\n",
              "                               ...                        \n",
              "12442    juta joti dami sthan paj়e sthan mathaj় hoj়n...\n",
              "12443    desh chot varter pichiye na mutar jonjo toder ...\n",
              "12444            hinduder egulo bastob prman sobai motamot\n",
              "12445                   dekhle shali ekta ostrelij়an gavi\n",
              "12446    vai sathe ekomot nari netritbe thakte cai na v...\n",
              "Name: banglish, Length: 12131, dtype: object"
            ]
          },
          "metadata": {},
          "execution_count": 26
        }
      ],
      "source": [
        "banglish=df['banglish'].apply(clean_banglish_text)\n",
        "banglish"
      ]
    },
    {
      "cell_type": "code",
      "execution_count": 27,
      "metadata": {
        "colab": {
          "base_uri": "https://localhost:8080/",
          "height": 407
        },
        "id": "R2lrDmOgJ9xW",
        "outputId": "bf00421a-2573-4e2e-cd17-e8c77ff57154"
      },
      "outputs": [
        {
          "output_type": "execute_result",
          "data": {
            "text/plain": [
              "                                              bangla  \\\n",
              "0  সোনাগাছির পূজো বাক যুদ্ধ তুমুল বিতর্কে জড়ালেন ...   \n",
              "1  সেদিন বাসনওয়ালাকে প্যান্টটা দিয়ে বাসন কিনেছিলা...   \n",
              "2            জুতা ছিড়ছে কেডা শালাগোরে জুতা পিডা করমু   \n",
              "\n",
              "                                            banglish  label  \n",
              "0  sonagachir pujo bak juddho tumul bitorke joral...      1  \n",
              "1  sedin basnoyalake pjantta bason kinechilam onl...      0  \n",
              "2        juta chirche keda shalagore juta pida kormu      1  "
            ],
            "text/html": [
              "\n",
              "  <div id=\"df-db337734-0aec-471f-8f93-d7064c89154a\" class=\"colab-df-container\">\n",
              "    <div>\n",
              "<style scoped>\n",
              "    .dataframe tbody tr th:only-of-type {\n",
              "        vertical-align: middle;\n",
              "    }\n",
              "\n",
              "    .dataframe tbody tr th {\n",
              "        vertical-align: top;\n",
              "    }\n",
              "\n",
              "    .dataframe thead th {\n",
              "        text-align: right;\n",
              "    }\n",
              "</style>\n",
              "<table border=\"1\" class=\"dataframe\">\n",
              "  <thead>\n",
              "    <tr style=\"text-align: right;\">\n",
              "      <th></th>\n",
              "      <th>bangla</th>\n",
              "      <th>banglish</th>\n",
              "      <th>label</th>\n",
              "    </tr>\n",
              "  </thead>\n",
              "  <tbody>\n",
              "    <tr>\n",
              "      <th>0</th>\n",
              "      <td>সোনাগাছির পূজো বাক যুদ্ধ তুমুল বিতর্কে জড়ালেন ...</td>\n",
              "      <td>sonagachir pujo bak juddho tumul bitorke joral...</td>\n",
              "      <td>1</td>\n",
              "    </tr>\n",
              "    <tr>\n",
              "      <th>1</th>\n",
              "      <td>সেদিন বাসনওয়ালাকে প্যান্টটা দিয়ে বাসন কিনেছিলা...</td>\n",
              "      <td>sedin basnoyalake pjantta bason kinechilam onl...</td>\n",
              "      <td>0</td>\n",
              "    </tr>\n",
              "    <tr>\n",
              "      <th>2</th>\n",
              "      <td>জুতা ছিড়ছে কেডা শালাগোরে জুতা পিডা করমু</td>\n",
              "      <td>juta chirche keda shalagore juta pida kormu</td>\n",
              "      <td>1</td>\n",
              "    </tr>\n",
              "  </tbody>\n",
              "</table>\n",
              "</div>\n",
              "    <div class=\"colab-df-buttons\">\n",
              "\n",
              "  <div class=\"colab-df-container\">\n",
              "    <button class=\"colab-df-convert\" onclick=\"convertToInteractive('df-db337734-0aec-471f-8f93-d7064c89154a')\"\n",
              "            title=\"Convert this dataframe to an interactive table.\"\n",
              "            style=\"display:none;\">\n",
              "\n",
              "  <svg xmlns=\"http://www.w3.org/2000/svg\" height=\"24px\" viewBox=\"0 -960 960 960\">\n",
              "    <path d=\"M120-120v-720h720v720H120Zm60-500h600v-160H180v160Zm220 220h160v-160H400v160Zm0 220h160v-160H400v160ZM180-400h160v-160H180v160Zm440 0h160v-160H620v160ZM180-180h160v-160H180v160Zm440 0h160v-160H620v160Z\"/>\n",
              "  </svg>\n",
              "    </button>\n",
              "\n",
              "  <style>\n",
              "    .colab-df-container {\n",
              "      display:flex;\n",
              "      gap: 12px;\n",
              "    }\n",
              "\n",
              "    .colab-df-convert {\n",
              "      background-color: #E8F0FE;\n",
              "      border: none;\n",
              "      border-radius: 50%;\n",
              "      cursor: pointer;\n",
              "      display: none;\n",
              "      fill: #1967D2;\n",
              "      height: 32px;\n",
              "      padding: 0 0 0 0;\n",
              "      width: 32px;\n",
              "    }\n",
              "\n",
              "    .colab-df-convert:hover {\n",
              "      background-color: #E2EBFA;\n",
              "      box-shadow: 0px 1px 2px rgba(60, 64, 67, 0.3), 0px 1px 3px 1px rgba(60, 64, 67, 0.15);\n",
              "      fill: #174EA6;\n",
              "    }\n",
              "\n",
              "    .colab-df-buttons div {\n",
              "      margin-bottom: 4px;\n",
              "    }\n",
              "\n",
              "    [theme=dark] .colab-df-convert {\n",
              "      background-color: #3B4455;\n",
              "      fill: #D2E3FC;\n",
              "    }\n",
              "\n",
              "    [theme=dark] .colab-df-convert:hover {\n",
              "      background-color: #434B5C;\n",
              "      box-shadow: 0px 1px 3px 1px rgba(0, 0, 0, 0.15);\n",
              "      filter: drop-shadow(0px 1px 2px rgba(0, 0, 0, 0.3));\n",
              "      fill: #FFFFFF;\n",
              "    }\n",
              "  </style>\n",
              "\n",
              "    <script>\n",
              "      const buttonEl =\n",
              "        document.querySelector('#df-db337734-0aec-471f-8f93-d7064c89154a button.colab-df-convert');\n",
              "      buttonEl.style.display =\n",
              "        google.colab.kernel.accessAllowed ? 'block' : 'none';\n",
              "\n",
              "      async function convertToInteractive(key) {\n",
              "        const element = document.querySelector('#df-db337734-0aec-471f-8f93-d7064c89154a');\n",
              "        const dataTable =\n",
              "          await google.colab.kernel.invokeFunction('convertToInteractive',\n",
              "                                                    [key], {});\n",
              "        if (!dataTable) return;\n",
              "\n",
              "        const docLinkHtml = 'Like what you see? Visit the ' +\n",
              "          '<a target=\"_blank\" href=https://colab.research.google.com/notebooks/data_table.ipynb>data table notebook</a>'\n",
              "          + ' to learn more about interactive tables.';\n",
              "        element.innerHTML = '';\n",
              "        dataTable['output_type'] = 'display_data';\n",
              "        await google.colab.output.renderOutput(dataTable, element);\n",
              "        const docLink = document.createElement('div');\n",
              "        docLink.innerHTML = docLinkHtml;\n",
              "        element.appendChild(docLink);\n",
              "      }\n",
              "    </script>\n",
              "  </div>\n",
              "\n",
              "\n",
              "<div id=\"df-a8a3f454-662a-4688-b932-ca2715d34859\">\n",
              "  <button class=\"colab-df-quickchart\" onclick=\"quickchart('df-a8a3f454-662a-4688-b932-ca2715d34859')\"\n",
              "            title=\"Suggest charts\"\n",
              "            style=\"display:none;\">\n",
              "\n",
              "<svg xmlns=\"http://www.w3.org/2000/svg\" height=\"24px\"viewBox=\"0 0 24 24\"\n",
              "     width=\"24px\">\n",
              "    <g>\n",
              "        <path d=\"M19 3H5c-1.1 0-2 .9-2 2v14c0 1.1.9 2 2 2h14c1.1 0 2-.9 2-2V5c0-1.1-.9-2-2-2zM9 17H7v-7h2v7zm4 0h-2V7h2v10zm4 0h-2v-4h2v4z\"/>\n",
              "    </g>\n",
              "</svg>\n",
              "  </button>\n",
              "\n",
              "<style>\n",
              "  .colab-df-quickchart {\n",
              "      --bg-color: #E8F0FE;\n",
              "      --fill-color: #1967D2;\n",
              "      --hover-bg-color: #E2EBFA;\n",
              "      --hover-fill-color: #174EA6;\n",
              "      --disabled-fill-color: #AAA;\n",
              "      --disabled-bg-color: #DDD;\n",
              "  }\n",
              "\n",
              "  [theme=dark] .colab-df-quickchart {\n",
              "      --bg-color: #3B4455;\n",
              "      --fill-color: #D2E3FC;\n",
              "      --hover-bg-color: #434B5C;\n",
              "      --hover-fill-color: #FFFFFF;\n",
              "      --disabled-bg-color: #3B4455;\n",
              "      --disabled-fill-color: #666;\n",
              "  }\n",
              "\n",
              "  .colab-df-quickchart {\n",
              "    background-color: var(--bg-color);\n",
              "    border: none;\n",
              "    border-radius: 50%;\n",
              "    cursor: pointer;\n",
              "    display: none;\n",
              "    fill: var(--fill-color);\n",
              "    height: 32px;\n",
              "    padding: 0;\n",
              "    width: 32px;\n",
              "  }\n",
              "\n",
              "  .colab-df-quickchart:hover {\n",
              "    background-color: var(--hover-bg-color);\n",
              "    box-shadow: 0 1px 2px rgba(60, 64, 67, 0.3), 0 1px 3px 1px rgba(60, 64, 67, 0.15);\n",
              "    fill: var(--button-hover-fill-color);\n",
              "  }\n",
              "\n",
              "  .colab-df-quickchart-complete:disabled,\n",
              "  .colab-df-quickchart-complete:disabled:hover {\n",
              "    background-color: var(--disabled-bg-color);\n",
              "    fill: var(--disabled-fill-color);\n",
              "    box-shadow: none;\n",
              "  }\n",
              "\n",
              "  .colab-df-spinner {\n",
              "    border: 2px solid var(--fill-color);\n",
              "    border-color: transparent;\n",
              "    border-bottom-color: var(--fill-color);\n",
              "    animation:\n",
              "      spin 1s steps(1) infinite;\n",
              "  }\n",
              "\n",
              "  @keyframes spin {\n",
              "    0% {\n",
              "      border-color: transparent;\n",
              "      border-bottom-color: var(--fill-color);\n",
              "      border-left-color: var(--fill-color);\n",
              "    }\n",
              "    20% {\n",
              "      border-color: transparent;\n",
              "      border-left-color: var(--fill-color);\n",
              "      border-top-color: var(--fill-color);\n",
              "    }\n",
              "    30% {\n",
              "      border-color: transparent;\n",
              "      border-left-color: var(--fill-color);\n",
              "      border-top-color: var(--fill-color);\n",
              "      border-right-color: var(--fill-color);\n",
              "    }\n",
              "    40% {\n",
              "      border-color: transparent;\n",
              "      border-right-color: var(--fill-color);\n",
              "      border-top-color: var(--fill-color);\n",
              "    }\n",
              "    60% {\n",
              "      border-color: transparent;\n",
              "      border-right-color: var(--fill-color);\n",
              "    }\n",
              "    80% {\n",
              "      border-color: transparent;\n",
              "      border-right-color: var(--fill-color);\n",
              "      border-bottom-color: var(--fill-color);\n",
              "    }\n",
              "    90% {\n",
              "      border-color: transparent;\n",
              "      border-bottom-color: var(--fill-color);\n",
              "    }\n",
              "  }\n",
              "</style>\n",
              "\n",
              "  <script>\n",
              "    async function quickchart(key) {\n",
              "      const quickchartButtonEl =\n",
              "        document.querySelector('#' + key + ' button');\n",
              "      quickchartButtonEl.disabled = true;  // To prevent multiple clicks.\n",
              "      quickchartButtonEl.classList.add('colab-df-spinner');\n",
              "      try {\n",
              "        const charts = await google.colab.kernel.invokeFunction(\n",
              "            'suggestCharts', [key], {});\n",
              "      } catch (error) {\n",
              "        console.error('Error during call to suggestCharts:', error);\n",
              "      }\n",
              "      quickchartButtonEl.classList.remove('colab-df-spinner');\n",
              "      quickchartButtonEl.classList.add('colab-df-quickchart-complete');\n",
              "    }\n",
              "    (() => {\n",
              "      let quickchartButtonEl =\n",
              "        document.querySelector('#df-a8a3f454-662a-4688-b932-ca2715d34859 button');\n",
              "      quickchartButtonEl.style.display =\n",
              "        google.colab.kernel.accessAllowed ? 'block' : 'none';\n",
              "    })();\n",
              "  </script>\n",
              "</div>\n",
              "    </div>\n",
              "  </div>\n"
            ]
          },
          "metadata": {},
          "execution_count": 27
        }
      ],
      "source": [
        "import pandas as pd\n",
        "\n",
        "# Create an empty DataFrame with column names\n",
        "df = pd.DataFrame(columns=['bangla', 'banglish','label'])\n",
        "df['bangla']=bangla\n",
        "df['banglish']=banglish\n",
        "df['label']=y\n",
        "df.head(3)"
      ]
    },
    {
      "cell_type": "code",
      "execution_count": 28,
      "metadata": {
        "colab": {
          "base_uri": "https://localhost:8080/"
        },
        "id": "UNgFVdfIVLtV",
        "outputId": "821de081-f967-4546-c875-701d9da8533f"
      },
      "outputs": [
        {
          "output_type": "execute_result",
          "data": {
            "text/plain": [
              "(12131, 3)"
            ]
          },
          "metadata": {},
          "execution_count": 28
        }
      ],
      "source": [
        "df.shape"
      ]
    },
    {
      "cell_type": "markdown",
      "metadata": {
        "id": "ejDXqr4xJc0u"
      },
      "source": [
        "# FE [Data Handling] [Use at least 3 technique]\n",
        "---\n",
        "\n",
        "\n",
        "1.   TF-IDF\n",
        "2.   Bag of words\n",
        "3.  Count Vectorize\n",
        "\n",
        "[Vectorization](https://www.analyticsvidhya.com/blog/2021/06/part-5-step-by-step-guide-to-master-nlp-text-vectorization-approaches/)\n"
      ]
    },
    {
      "cell_type": "markdown",
      "metadata": {
        "id": "IVogVp7FOJtQ"
      },
      "source": [
        "## TF_IDF Vectorize"
      ]
    },
    {
      "cell_type": "code",
      "execution_count": 61,
      "metadata": {
        "colab": {
          "base_uri": "https://localhost:8080/"
        },
        "id": "9mzlUJMZOJC8",
        "outputId": "e2ec7afb-85b5-4a80-dbc3-78ed7272a339"
      },
      "outputs": [
        {
          "output_type": "stream",
          "name": "stdout",
          "text": [
            "[[0. 0. 0. ... 0. 0. 0.]\n",
            " [0. 0. 0. ... 0. 0. 0.]\n",
            " [0. 0. 0. ... 0. 0. 0.]\n",
            " ...\n",
            " [0. 0. 0. ... 0. 0. 0.]\n",
            " [0. 0. 0. ... 0. 0. 0.]\n",
            " [0. 0. 0. ... 0. 0. 0.]]\n",
            "[1 0 1 ... 1 1 4]\n"
          ]
        }
      ],
      "source": [
        "from sklearn.feature_extraction.text import TfidfVectorizer\n",
        "\n",
        "# Define and fit the vectorizers for both languages on your training data\n",
        "tfidf_vectorizer_bangla = TfidfVectorizer(max_features=1000, ngram_range=(1, 4))\n",
        "tfidf_vectorizer_banglish = TfidfVectorizer(max_features=1000, ngram_range=(1, 4))\n",
        "\n",
        "# Fit the vectorizers on your training data\n",
        "X_bangla = tfidf_vectorizer_bangla.fit_transform(df['bangla'])\n",
        "X_banglish = tfidf_vectorizer_banglish.fit_transform(df['banglish'])\n",
        "\n",
        "# Transform the training data\n",
        "X = pd.concat([pd.DataFrame(X_bangla.toarray()), pd.DataFrame(X_banglish.toarray())], axis=1).values\n",
        "print(X)\n",
        "\n",
        "y = df['label'].values\n",
        "print(y)\n"
      ]
    },
    {
      "cell_type": "code",
      "execution_count": 62,
      "metadata": {
        "id": "g3oNI-D8I74_"
      },
      "outputs": [],
      "source": [
        "import pickle\n",
        "\n",
        "# Save tf-idf vectorizer for Bangla\n",
        "tfidf_vectorizer_bangla_filename = 'tfidf_vectorizer_bangla.sav'\n",
        "with open(tfidf_vectorizer_bangla_filename, 'wb') as filehandler:\n",
        "    pickle.dump(tfidf_vectorizer_bangla, filehandler)\n",
        "\n",
        "# Save tf-idf vectorizer for Banglish\n",
        "tfidf_vectorizer_banglish_filename = 'tfidf_vectorizer_banglish.sav'\n",
        "with open(tfidf_vectorizer_banglish_filename, 'wb') as filehandler:\n",
        "    pickle.dump(tfidf_vectorizer_banglish, filehandler)\n"
      ]
    },
    {
      "cell_type": "code",
      "source": [
        "# Load tf-idf vectorizer for Bangla\n",
        "with open('tfidf_vectorizer_bangla.sav', 'rb') as filehandler:\n",
        "    loaded_tfidf_vectorizer_bangla = pickle.load(filehandler)\n",
        "print(loaded_tfidf_vectorizer_bangla)\n",
        "# Load tf-idf vectorizer for Banglish\n",
        "with open('tfidf_vectorizer_banglish.sav', 'rb') as filehandler:\n",
        "    loaded_tfidf_vectorizer_banglish = pickle.load(filehandler)\n"
      ],
      "metadata": {
        "colab": {
          "base_uri": "https://localhost:8080/"
        },
        "id": "wn4RRpRDd3Ww",
        "outputId": "f5495ba1-3043-4532-8eaa-4a02db0167fd"
      },
      "execution_count": 53,
      "outputs": [
        {
          "output_type": "stream",
          "name": "stdout",
          "text": [
            "  (0, 33)\t0.60954629634437\n",
            "  (0, 396)\t0.6504080160507929\n",
            "  (0, 437)\t0.4532358384657299\n",
            "  (1, 17)\t0.47922796312984334\n",
            "  (1, 716)\t0.1513950309416593\n",
            "  (1, 127)\t0.2839701607801124\n",
            "  (1, 16)\t0.47922796312984334\n",
            "  (1, 885)\t0.27762598665353316\n",
            "  (1, 405)\t0.4714336319828658\n",
            "  (1, 33)\t0.3712085037706305\n",
            "  (2, 301)\t0.7192486325656132\n",
            "  (2, 979)\t0.6947527650556674\n",
            "  (3, 476)\t0.5735234434951064\n",
            "  (3, 865)\t0.5158426330888688\n",
            "  (3, 468)\t0.3726709212393702\n",
            "  (3, 62)\t0.5158426330888688\n",
            "  (4, 330)\t0.666418310097703\n",
            "  (4, 657)\t0.6570729052905574\n",
            "  (4, 468)\t0.352337669146442\n",
            "  (5, 597)\t0.53525086158944\n",
            "  (5, 195)\t0.5745946176337059\n",
            "  (5, 893)\t0.6191506606264241\n",
            "  (6, 107)\t0.4118511932926388\n",
            "  (6, 632)\t0.4435661186531555\n",
            "  (6, 711)\t0.6273917093661585\n",
            "  :\t:\n",
            "  (12126, 966)\t0.3866738198422085\n",
            "  (12126, 682)\t0.4068841142325067\n",
            "  (12126, 881)\t0.28867618498041026\n",
            "  (12126, 259)\t0.33436920292879224\n",
            "  (12126, 796)\t0.2460296112925585\n",
            "  (12126, 107)\t0.2828073514109339\n",
            "  (12127, 740)\t0.522418501229615\n",
            "  (12127, 316)\t0.4452453338316641\n",
            "  (12127, 907)\t0.4580611621682499\n",
            "  (12127, 904)\t0.32325788540493927\n",
            "  (12127, 383)\t0.310277807447365\n",
            "  (12127, 536)\t0.2926881752863279\n",
            "  (12127, 716)\t0.180502431462703\n",
            "  (12128, 643)\t0.5357333517923297\n",
            "  (12128, 434)\t0.38304398263021155\n",
            "  (12128, 800)\t0.3543529408170574\n",
            "  (12128, 642)\t0.5845577178510037\n",
            "  (12128, 893)\t0.3146320882924555\n",
            "  (12129, 38)\t0.7351581216834339\n",
            "  (12129, 325)\t0.6778956675793744\n",
            "  (12130, 944)\t0.616056770932995\n",
            "  (12130, 969)\t0.4388904712647526\n",
            "  (12130, 267)\t0.3801314578908646\n",
            "  (12130, 200)\t0.4180201333153684\n",
            "  (12130, 642)\t0.32955796468206067\n"
          ]
        }
      ]
    },
    {
      "cell_type": "code",
      "source": [
        "import joblib\n",
        "\n",
        "# Define the filename for the saved object\n",
        "filename = 'tf-IDF_dict.joblib'\n",
        "\n",
        "# Use joblib to save the X variable\n",
        "joblib.dump(X, filename)\n"
      ],
      "metadata": {
        "colab": {
          "base_uri": "https://localhost:8080/"
        },
        "id": "4U5La9pnJXH-",
        "outputId": "03cc2b7d-33ad-41d7-dee7-5ce79f5050bc"
      },
      "execution_count": null,
      "outputs": [
        {
          "output_type": "execute_result",
          "data": {
            "text/plain": [
              "['tf-IDF_dict.joblib']"
            ]
          },
          "metadata": {},
          "execution_count": 207
        }
      ]
    },
    {
      "cell_type": "markdown",
      "metadata": {
        "id": "gTU6-frHEtCB"
      },
      "source": [
        "# Balancing Technique\n",
        "\n",
        "\n",
        "1.   Under Sampling\n",
        "2.   Over Sampling(smote)\n",
        "3.   Tomek Links\n",
        "\n",
        "[Balancing Technique](https://www.analyticsvidhya.com/blog/2020/07/10-techniques-to-deal-with-class-imbalance-in-machine-learning/)\n"
      ]
    },
    {
      "cell_type": "markdown",
      "metadata": {
        "id": "INp4hRFywijN"
      },
      "source": [
        "## Balanced dataset using Smote"
      ]
    },
    {
      "cell_type": "code",
      "source": [
        "pip install imbalanced-learn==0.7.0\n"
      ],
      "metadata": {
        "colab": {
          "base_uri": "https://localhost:8080/"
        },
        "id": "YWClQaFkaJ5Z",
        "outputId": "cd2b5c30-c470-4072-cd9f-54eec215726f"
      },
      "execution_count": 37,
      "outputs": [
        {
          "output_type": "stream",
          "name": "stdout",
          "text": [
            "Collecting imbalanced-learn==0.7.0\n",
            "  Downloading imbalanced_learn-0.7.0-py3-none-any.whl (167 kB)\n",
            "\u001b[2K     \u001b[90m━━━━━━━━━━━━━━━━━━━━━━━━━━━━━━━━━━━━━━━━\u001b[0m \u001b[32m167.1/167.1 kB\u001b[0m \u001b[31m2.7 MB/s\u001b[0m eta \u001b[36m0:00:00\u001b[0m\n",
            "\u001b[?25hRequirement already satisfied: numpy>=1.13.3 in /usr/local/lib/python3.10/dist-packages (from imbalanced-learn==0.7.0) (1.23.5)\n",
            "Requirement already satisfied: scipy>=0.19.1 in /usr/local/lib/python3.10/dist-packages (from imbalanced-learn==0.7.0) (1.11.3)\n",
            "Requirement already satisfied: scikit-learn>=0.23 in /usr/local/lib/python3.10/dist-packages (from imbalanced-learn==0.7.0) (1.3.2)\n",
            "Requirement already satisfied: joblib>=0.11 in /usr/local/lib/python3.10/dist-packages (from imbalanced-learn==0.7.0) (1.3.2)\n",
            "Requirement already satisfied: threadpoolctl>=2.0.0 in /usr/local/lib/python3.10/dist-packages (from scikit-learn>=0.23->imbalanced-learn==0.7.0) (3.2.0)\n",
            "Installing collected packages: imbalanced-learn\n",
            "  Attempting uninstall: imbalanced-learn\n",
            "    Found existing installation: imbalanced-learn 0.10.1\n",
            "    Uninstalling imbalanced-learn-0.10.1:\n",
            "      Successfully uninstalled imbalanced-learn-0.10.1\n",
            "Successfully installed imbalanced-learn-0.7.0\n"
          ]
        }
      ]
    },
    {
      "cell_type": "code",
      "execution_count": 39,
      "metadata": {
        "id": "gGuOPv03wsns"
      },
      "outputs": [],
      "source": [
        "from imblearn.over_sampling import SMOTE\n",
        "from collections import Counter\n"
      ]
    },
    {
      "cell_type": "code",
      "execution_count": 40,
      "metadata": {
        "colab": {
          "base_uri": "https://localhost:8080/"
        },
        "id": "JQMWpvYTwvVn",
        "outputId": "7d8bf10c-7987-43ff-9e3d-45cc89f5efe5"
      },
      "outputs": [
        {
          "output_type": "stream",
          "name": "stdout",
          "text": [
            "Class distribution before SMOTE: Counter({1: 4225, 2: 3761, 3: 1714, 4: 1596, 0: 835})\n"
          ]
        }
      ],
      "source": [
        "print(\"Class distribution before SMOTE:\", Counter(y))\n"
      ]
    },
    {
      "cell_type": "code",
      "execution_count": 63,
      "metadata": {
        "id": "yk2sSx0fwzx3"
      },
      "outputs": [],
      "source": [
        "sm = SMOTE(random_state=42)\n",
        "X_resampled, y_resampled = sm.fit_resample(X, y)\n"
      ]
    },
    {
      "cell_type": "code",
      "execution_count": 55,
      "metadata": {
        "colab": {
          "base_uri": "https://localhost:8080/"
        },
        "id": "XEDAl3CYw4YA",
        "outputId": "5e870a41-b970-4ef8-ceba-a7ee144b5f59"
      },
      "outputs": [
        {
          "output_type": "stream",
          "name": "stdout",
          "text": [
            "Class distribution after SMOTE: Counter({1: 4225, 0: 4225, 3: 4225, 2: 4225, 4: 4225})\n"
          ]
        }
      ],
      "source": [
        "print(\"Class distribution after SMOTE:\", Counter(y_resampled))\n"
      ]
    },
    {
      "cell_type": "code",
      "execution_count": 64,
      "metadata": {
        "id": "rx-xrC6MxT9x"
      },
      "outputs": [],
      "source": [
        "X_train, X_test, y_train, y_test = train_test_split(X_resampled,y_resampled, test_size=0.20, random_state=42,stratify=y_resampled)"
      ]
    },
    {
      "cell_type": "code",
      "execution_count": 57,
      "metadata": {
        "colab": {
          "base_uri": "https://localhost:8080/"
        },
        "id": "Xd6Bk79RkLE0",
        "outputId": "79396907-9866-4b11-e648-2d2011052c21"
      },
      "outputs": [
        {
          "output_type": "stream",
          "name": "stdout",
          "text": [
            "16900\n",
            "16900\n",
            "4225\n",
            "4225\n"
          ]
        }
      ],
      "source": [
        "print(len(X_train))\n",
        "print(len(y_train))\n",
        "print(len(X_test))\n",
        "print(len(y_test))"
      ]
    },
    {
      "cell_type": "code",
      "execution_count": 58,
      "metadata": {
        "id": "Me68g9VCD9is"
      },
      "outputs": [],
      "source": [
        "from sklearn.metrics import classification_report\n",
        "from sklearn.metrics import accuracy_score"
      ]
    },
    {
      "cell_type": "code",
      "execution_count": null,
      "metadata": {
        "colab": {
          "base_uri": "https://localhost:8080/"
        },
        "id": "rTGlNtuqzdug",
        "outputId": "dd96b3e1-1231-4f10-8f6d-3a137dc98476"
      },
      "outputs": [
        {
          "output_type": "stream",
          "name": "stdout",
          "text": [
            "Accuaracy Score: 0.8951479289940828\n",
            "              precision    recall  f1-score   support\n",
            "\n",
            "           0       0.82      0.94      0.88       845\n",
            "           1       0.84      0.91      0.87       845\n",
            "           2       0.95      0.91      0.93       845\n",
            "           3       0.94      0.85      0.89       845\n",
            "           4       0.95      0.88      0.91       845\n",
            "\n",
            "    accuracy                           0.90      4225\n",
            "   macro avg       0.90      0.90      0.90      4225\n",
            "weighted avg       0.90      0.90      0.90      4225\n",
            "\n"
          ]
        }
      ],
      "source": [
        "from sklearn.svm import SVC\n",
        "\n",
        "# Create an SVM model\n",
        "svm_classifier = SVC()\n",
        "\n",
        "# Fit the model on the training data\n",
        "svm_classifier.fit(X_train, y_train)\n",
        "\n",
        "# Predict y values\n",
        "y_pred_svm = svm_classifier.predict(X_test)\n",
        "print(\"Accuaracy Score:\",accuracy_score(y_test,y_pred_svm))\n",
        "print(classification_report(y_test, y_pred_svm))"
      ]
    },
    {
      "cell_type": "code",
      "execution_count": null,
      "metadata": {
        "id": "bGCR_skDVvJU"
      },
      "outputs": [],
      "source": [
        "# save the model to disk\n",
        "filename = 'svm.sav'\n",
        "pickle.dump(svm_classifier, open(filename, 'wb'))"
      ]
    },
    {
      "cell_type": "code",
      "execution_count": 59,
      "metadata": {
        "colab": {
          "base_uri": "https://localhost:8080/"
        },
        "id": "aWbzoEs9zeen",
        "outputId": "54f79cf5-1784-4e84-ad53-560647f175c4"
      },
      "outputs": [
        {
          "output_type": "stream",
          "name": "stdout",
          "text": [
            "Accuaracy Score: 0.9069822485207101\n",
            "              precision    recall  f1-score   support\n",
            "\n",
            "           0       0.85      0.96      0.90       845\n",
            "           1       0.88      0.80      0.84       845\n",
            "           2       0.94      0.92      0.93       845\n",
            "           3       0.93      0.92      0.93       845\n",
            "           4       0.94      0.93      0.94       845\n",
            "\n",
            "    accuracy                           0.91      4225\n",
            "   macro avg       0.91      0.91      0.91      4225\n",
            "weighted avg       0.91      0.91      0.91      4225\n",
            "\n"
          ]
        }
      ],
      "source": [
        "from sklearn.ensemble import RandomForestClassifier\n",
        "\n",
        "# Create a Random Forest model\n",
        "random_forest_classifier = RandomForestClassifier()\n",
        "\n",
        "# Fit the model on the training data\n",
        "random_forest_classifier.fit(X_train, y_train)\n",
        "\n",
        "# Predict y values\n",
        "y_pred_rf = random_forest_classifier.predict(X_test)\n",
        "print(\"Accuaracy Score:\",accuracy_score(y_test,y_pred_rf))\n",
        "print(classification_report(y_test, y_pred_rf))"
      ]
    },
    {
      "cell_type": "code",
      "source": [
        "import pickle\n",
        "\n",
        "# Save the trained Random Forest model to a file\n",
        "filename_rf = 'random_forest_model.sav'\n",
        "with open(filename_rf, 'wb') as file:\n",
        "    pickle.dump(random_forest_classifier, file)\n"
      ],
      "metadata": {
        "id": "g03o52Iwejpn"
      },
      "execution_count": 66,
      "outputs": []
    },
    {
      "cell_type": "code",
      "execution_count": null,
      "metadata": {
        "id": "cWopV05yVzip"
      },
      "outputs": [],
      "source": [
        "# save the model to disk\n",
        "filename = 'rf.sav'\n",
        "pickle.dump(random_forest_classifier, open(filename, 'wb'))"
      ]
    },
    {
      "cell_type": "code",
      "source": [
        "import joblib\n",
        "\n",
        "# Define the filename for the saved model\n",
        "filename = 'rf.joblib'\n",
        "\n",
        "# Use joblib to save the model\n",
        "joblib.dump(random_forest_classifier, filename)\n"
      ],
      "metadata": {
        "colab": {
          "base_uri": "https://localhost:8080/"
        },
        "id": "ymrBUjb9Ja-R",
        "outputId": "f0542156-cec1-4286-a590-498771d25b78"
      },
      "execution_count": null,
      "outputs": [
        {
          "output_type": "execute_result",
          "data": {
            "text/plain": [
              "['rf.joblib']"
            ]
          },
          "metadata": {},
          "execution_count": 216
        }
      ]
    },
    {
      "cell_type": "code",
      "execution_count": null,
      "metadata": {
        "colab": {
          "base_uri": "https://localhost:8080/"
        },
        "id": "ylaxInzTzuCd",
        "outputId": "18f02d81-59da-43c8-d70c-22e0cc34d88d"
      },
      "outputs": [
        {
          "output_type": "stream",
          "name": "stdout",
          "text": [
            "Accuracy Score (MLP): 0.9192899408284023\n",
            "              precision    recall  f1-score   support\n",
            "\n",
            "           0       0.89      1.00      0.94       845\n",
            "           1       0.94      0.76      0.84       845\n",
            "           2       0.93      0.93      0.93       845\n",
            "           3       0.93      0.95      0.94       845\n",
            "           4       0.92      0.97      0.94       845\n",
            "\n",
            "    accuracy                           0.92      4225\n",
            "   macro avg       0.92      0.92      0.92      4225\n",
            "weighted avg       0.92      0.92      0.92      4225\n",
            "\n"
          ]
        }
      ],
      "source": [
        "from sklearn.neural_network import MLPClassifier\n",
        "mlp_classifier = MLPClassifier(hidden_layer_sizes=(100, 50), max_iter=1000)\n",
        "mlp_classifier.fit(X_train, y_train)\n",
        "y_pred_mlp = mlp_classifier.predict(X_test)\n",
        "print(\"Accuracy Score (MLP):\", accuracy_score(y_test, y_pred_mlp))\n",
        "print(classification_report(y_test, y_pred_mlp))"
      ]
    },
    {
      "cell_type": "markdown",
      "source": [
        "label_mapping = {\n",
        "    'Personal': 1,\n",
        "    'Neutral': 0,\n",
        "    'Religious': 3,\n",
        "    'Political':4,\n",
        "    'Geopolitical':2\n",
        "}\n"
      ],
      "metadata": {
        "id": "dEYKz25tqVC1"
      }
    },
    {
      "cell_type": "code",
      "source": [
        "# Now, you can use the fitted vectorizers for transforming input data\n",
        "input_bn = [\"বেশি কথা কইস না\"]\n",
        "input_banglish = [\"beshi kotha kois na \"]\n",
        "bangla_clean = clean_bangla_text(input_bn[0])\n",
        "banglish_clean = clean_banglish_text(input_banglish[0])\n",
        "\n",
        "# Transform the input data using the already fitted vectorizers\n",
        "b1_num = tfidf_vectorizer_bangla.transform([bangla_clean]).toarray()\n",
        "b2_num = tfidf_vectorizer_banglish.transform([banglish_clean]).toarray()\n",
        "\n",
        "# Concatenate the features\n",
        "X_input = pd.concat([pd.DataFrame(b1_num), pd.DataFrame(b2_num)], axis=1).values\n",
        "\n",
        "# Now you can predict using your model (e.g., mlp_classifier)\n",
        "output = random_forest_classifier.predict(X_input)\n",
        "print(output)\n"
      ],
      "metadata": {
        "colab": {
          "base_uri": "https://localhost:8080/"
        },
        "id": "EJMaWYsreI5N",
        "outputId": "20fa63d0-05fc-4cc4-8c16-97dd26f7608f"
      },
      "execution_count": null,
      "outputs": [
        {
          "output_type": "stream",
          "name": "stdout",
          "text": [
            "[1]\n"
          ]
        }
      ]
    },
    {
      "cell_type": "code",
      "execution_count": null,
      "metadata": {
        "id": "37dc6zKALNl5"
      },
      "outputs": [],
      "source": [
        "# save the model to disk\n",
        "filename = 'mlp.sav'\n",
        "pickle.dump(mlp_classifier, open(filename, 'wb'))"
      ]
    },
    {
      "cell_type": "code",
      "execution_count": null,
      "metadata": {
        "colab": {
          "base_uri": "https://localhost:8080/"
        },
        "id": "s9WO7_LQzxYe",
        "outputId": "ee61bd79-f76f-4600-e04f-f1265ab47f62"
      },
      "outputs": [
        {
          "output_type": "stream",
          "name": "stdout",
          "text": [
            "Accuracy Score (Decision Tree): 0.8712426035502958\n",
            "              precision    recall  f1-score   support\n",
            "\n",
            "           0       0.83      0.91      0.87       845\n",
            "           1       0.80      0.77      0.79       845\n",
            "           2       0.89      0.90      0.89       845\n",
            "           3       0.92      0.88      0.90       845\n",
            "           4       0.92      0.89      0.90       845\n",
            "\n",
            "    accuracy                           0.87      4225\n",
            "   macro avg       0.87      0.87      0.87      4225\n",
            "weighted avg       0.87      0.87      0.87      4225\n",
            "\n"
          ]
        }
      ],
      "source": [
        "from sklearn.tree import DecisionTreeClassifier\n",
        "decision_tree_classifier = DecisionTreeClassifier()\n",
        "decision_tree_classifier.fit(X_train, y_train)\n",
        "y_pred_dt = decision_tree_classifier.predict(X_test)\n",
        "print(\"Accuracy Score (Decision Tree):\", accuracy_score(y_test, y_pred_dt))\n",
        "print(classification_report(y_test, y_pred_dt))"
      ]
    },
    {
      "cell_type": "code",
      "execution_count": null,
      "metadata": {
        "id": "xvpL0XTxV5aR"
      },
      "outputs": [],
      "source": [
        "# save the model to disk\n",
        "filename = 'dt.sav'\n",
        "pickle.dump(decision_tree_classifier, open(filename, 'wb'))"
      ]
    },
    {
      "cell_type": "markdown",
      "source": [
        "# Input Check on Different Model"
      ],
      "metadata": {
        "id": "NnruuIJbyk9y"
      }
    },
    {
      "cell_type": "markdown",
      "source": [
        "\n",
        "**label_mapping = {\n",
        "    'Personal': 1,\n",
        "    'Neutral': 0,\n",
        "    'Religious': 3,\n",
        "    'Political':4,\n",
        "    'Geopolitical':2\n",
        "}**"
      ],
      "metadata": {
        "id": "cSB3TrTjyvLs"
      }
    },
    {
      "cell_type": "code",
      "source": [
        "# Now, you can use the fitted vectorizers for transforming input data\n",
        "input_bn = [\"তুই কি মাগির পুত?\"]\n",
        "input_banglish = [\"tui ki magir put?\"]\n",
        "bangla_clean = clean_bangla_text(input_bn[0])\n",
        "banglish_clean = clean_banglish_text(input_banglish[0])\n",
        "\n",
        "# Transform the input data using the already fitted vectorizers\n",
        "b1_num = tfidf_vectorizer_bangla.transform([bangla_clean]).toarray()\n",
        "b2_num = tfidf_vectorizer_banglish.transform([banglish_clean]).toarray()\n",
        "\n",
        "# Concatenate the features\n",
        "X_input = pd.concat([pd.DataFrame(b1_num), pd.DataFrame(b2_num)], axis=1).values\n",
        "\n",
        "# Now you can predict using your model (e.g., mlp_classifier)\n",
        "output = random_forest_classifier.predict(X_input)\n",
        "print(output)\n",
        "\n",
        "if output==0:\n",
        "  print(\"Neutral\")\n",
        "elif output==1:\n",
        "  print(\"Personal\")\n",
        "elif output==2:\n",
        "  print(\"GeoPolitical\")\n",
        "elif output==3:\n",
        "  print(\"Religious\")\n",
        "else:\n",
        "  print(\"Political\")"
      ],
      "metadata": {
        "colab": {
          "base_uri": "https://localhost:8080/"
        },
        "id": "3gp0zF5bysvp",
        "outputId": "524c92c8-58ca-432e-a3ea-9d41daca12ed"
      },
      "execution_count": null,
      "outputs": [
        {
          "output_type": "stream",
          "name": "stdout",
          "text": [
            "[1]\n",
            "Personal\n"
          ]
        }
      ]
    }
  ],
  "metadata": {
    "colab": {
      "collapsed_sections": [
        "SSyw2erGC-xf",
        "IA6h2CgRInzp",
        "8dEjLqU7Gsuj",
        "NnruuIJbyk9y"
      ],
      "provenance": []
    },
    "kernelspec": {
      "display_name": "Python 3",
      "name": "python3"
    },
    "language_info": {
      "name": "python"
    }
  },
  "nbformat": 4,
  "nbformat_minor": 0
}